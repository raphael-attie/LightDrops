{
 "cells": [
  {
   "cell_type": "code",
   "execution_count": 22,
   "metadata": {},
   "outputs": [],
   "source": [
    "import astropy.io.fits as fits\n",
    "from pathlib import Path\n",
    "import glob, os\n",
    "import matplotlib.pyplot as plt\n",
    "import numpy as np\n",
    "from astropy.stats import median_absolute_deviation as mad\n",
    "\n",
    "def rescale(image, mref, sref, roi=None):\n",
    "    imageV = image if roi is None else image[roi]\n",
    "    m1 = np.nanmedian(imageV)\n",
    "#     s1 = np.sqrt(bwmv(imageV))\n",
    "    s1 = mad(imageV, ignore_nan=True)\n",
    "    ki = sref/s1\n",
    "    rimage = ki*(image - m1) + mref\n",
    "    return rimage"
   ]
  },
  {
   "cell_type": "code",
   "execution_count": 5,
   "metadata": {},
   "outputs": [],
   "source": [
    "%matplotlib widget"
   ]
  },
  {
   "cell_type": "code",
   "execution_count": 54,
   "metadata": {},
   "outputs": [
    {
     "data": {
      "text/plain": [
       "True"
      ]
     },
     "execution_count": 54,
     "metadata": {},
     "output_type": "execute_result"
    }
   ],
   "source": [
    "datadir = Path(\"C:\\Data/FIRECAPTURE/Jup/221220/pipp_20201224_183035/Jup_175008\")\n",
    "datadir.exists()"
   ]
  },
  {
   "cell_type": "code",
   "execution_count": 58,
   "metadata": {},
   "outputs": [
    {
     "data": {
      "text/plain": [
       "(2343, 2343)"
      ]
     },
     "execution_count": 58,
     "metadata": {},
     "output_type": "execute_result"
    }
   ],
   "source": [
    "rfits = sorted(list(datadir.glob('r_Jup*.fit')))\n",
    "gfits = sorted(list(datadir.glob('g_Jup*.fit')))\n",
    "len(rfits), len(gfits)"
   ]
  },
  {
   "cell_type": "code",
   "execution_count": 59,
   "metadata": {},
   "outputs": [],
   "source": [
    "rsample = fits.getdata(rfits[0])\n",
    "gsample = fits.getdata(gfits[0])"
   ]
  },
  {
   "cell_type": "code",
   "execution_count": 60,
   "metadata": {},
   "outputs": [
    {
     "data": {
      "application/vnd.jupyter.widget-view+json": {
       "model_id": "41b4ad48c4b34f248536f55df4a6db56",
       "version_major": 2,
       "version_minor": 0
      },
      "text/plain": [
       "Canvas(toolbar=Toolbar(toolitems=[('Home', 'Reset original view', 'home', 'home'), ('Back', 'Back to previous …"
      ]
     },
     "metadata": {},
     "output_type": "display_data"
    },
    {
     "data": {
      "application/vnd.jupyter.widget-view+json": {
       "model_id": "81e35763becf4eb28c415b1ce23e2822",
       "version_major": 2,
       "version_minor": 0
      },
      "text/plain": [
       "Canvas(toolbar=Toolbar(toolitems=[('Home', 'Reset original view', 'home', 'home'), ('Back', 'Back to previous …"
      ]
     },
     "metadata": {},
     "output_type": "display_data"
    },
    {
     "data": {
      "text/plain": [
       "(-0.5, 282.5, -0.5, 268.5)"
      ]
     },
     "execution_count": 60,
     "metadata": {},
     "output_type": "execute_result"
    }
   ],
   "source": [
    "plt.figure(figsize=(5,5))\n",
    "plt.imshow(rsample, cmap='gray', origin='lower')\n",
    "plt.axis('off')\n",
    "plt.figure(figsize=(5,5))\n",
    "plt.imshow(gsample, cmap='gray', origin='lower')\n",
    "plt.axis('off')"
   ]
  },
  {
   "cell_type": "code",
   "execution_count": 61,
   "metadata": {},
   "outputs": [
    {
     "data": {
      "text/plain": [
       "(2343, 269, 283)"
      ]
     },
     "execution_count": 61,
     "metadata": {},
     "output_type": "execute_result"
    }
   ],
   "source": [
    "gdata = np.array([fits.getdata(f) for f in gfits])\n",
    "gdata.shape"
   ]
  },
  {
   "cell_type": "code",
   "execution_count": 63,
   "metadata": {},
   "outputs": [],
   "source": [
    "gdata2 = gdata.astype(np.float32).copy()\n",
    "gdata2[gdata2 == 0] = np.nan"
   ]
  },
  {
   "cell_type": "code",
   "execution_count": 64,
   "metadata": {},
   "outputs": [],
   "source": [
    "med_gdata = np.median(gdata, axis=0)\n",
    "mean_gdata = gdata.mean(axis=0)"
   ]
  },
  {
   "cell_type": "code",
   "execution_count": 65,
   "metadata": {},
   "outputs": [],
   "source": [
    "mref = np.nanmedian(gdata2)\n",
    "sref = np.nanstd(gdata2)"
   ]
  },
  {
   "cell_type": "code",
   "execution_count": 66,
   "metadata": {},
   "outputs": [],
   "source": [
    "gdata3 = np.array([rescale(data, mref, sref) for data in gdata2])\n",
    "gdata3[np.isnan(gdata3)] = 0"
   ]
  },
  {
   "cell_type": "code",
   "execution_count": 67,
   "metadata": {},
   "outputs": [],
   "source": [
    "med_gdata2 = np.median(gdata3, axis=0)\n",
    "mean_gdata2 = np.median(gdata3, axis=0)"
   ]
  },
  {
   "cell_type": "code",
   "execution_count": 68,
   "metadata": {},
   "outputs": [
    {
     "data": {
      "application/vnd.jupyter.widget-view+json": {
       "model_id": "ef3d63aac0874bb5a15b3143dbe1d317",
       "version_major": 2,
       "version_minor": 0
      },
      "text/plain": [
       "Canvas(toolbar=Toolbar(toolitems=[('Home', 'Reset original view', 'home', 'home'), ('Back', 'Back to previous …"
      ]
     },
     "metadata": {},
     "output_type": "display_data"
    }
   ],
   "source": [
    "fig, axs = plt.subplots(nrows=2, ncols=3, figsize= (10,6))\n",
    "axs[0, 0].imshow(gdata[0], origin='lower', cmap='gray')\n",
    "axs[0, 0].set_title('raw')\n",
    "axs[0, 0].axis('off')\n",
    "axs[0, 1].imshow(mean_gdata, origin='lower', cmap='gray')\n",
    "axs[0, 1].set_title('mean')\n",
    "axs[0, 1].axis('off')\n",
    "axs[0, 2].imshow(med_gdata, origin='lower', cmap='gray')\n",
    "axs[0, 2].set_title('median')\n",
    "axs[0, 2].axis('off')\n",
    "\n",
    "axs[1, 0].imshow(gdata3[0], origin='lower', cmap='gray')\n",
    "axs[1, 0].set_title('raw')\n",
    "axs[1, 0].axis('off')\n",
    "axs[1, 1].imshow(mean_gdata2, origin='lower', cmap='gray')\n",
    "axs[1, 1].set_title('mean rescaled')\n",
    "axs[1, 1].axis('off')\n",
    "axs[1, 2].imshow(med_gdata2, origin='lower', cmap='gray')\n",
    "axs[1, 2].set_title('median rescaled')\n",
    "axs[1, 2].axis('off')\n",
    "plt.tight_layout()"
   ]
  },
  {
   "cell_type": "code",
   "execution_count": 71,
   "metadata": {},
   "outputs": [
    {
     "data": {
      "text/plain": [
       "122.65754"
      ]
     },
     "execution_count": 71,
     "metadata": {},
     "output_type": "execute_result"
    }
   ],
   "source": [
    "med_gdata2.max()"
   ]
  },
  {
   "cell_type": "code",
   "execution_count": 78,
   "metadata": {},
   "outputs": [],
   "source": [
    "med_gdata_tiff = np.round(med_gdata2/255 * 65535).astype(np.uint16)"
   ]
  },
  {
   "cell_type": "code",
   "execution_count": 79,
   "metadata": {},
   "outputs": [],
   "source": [
    "from imageio import imwrite"
   ]
  },
  {
   "cell_type": "code",
   "execution_count": 80,
   "metadata": {},
   "outputs": [],
   "source": [
    "imwrite('C:\\Data/FIRECAPTURE/Jup/221220/green_jupiter.tiff', np.flipud(med_gdata_tiff))"
   ]
  },
  {
   "cell_type": "code",
   "execution_count": null,
   "metadata": {},
   "outputs": [],
   "source": []
  }
 ],
 "metadata": {
  "kernelspec": {
   "display_name": "Python 3",
   "language": "python",
   "name": "python3"
  },
  "language_info": {
   "codemirror_mode": {
    "name": "ipython",
    "version": 3
   },
   "file_extension": ".py",
   "mimetype": "text/x-python",
   "name": "python",
   "nbconvert_exporter": "python",
   "pygments_lexer": "ipython3",
   "version": "3.8.5"
  }
 },
 "nbformat": 4,
 "nbformat_minor": 4
}
