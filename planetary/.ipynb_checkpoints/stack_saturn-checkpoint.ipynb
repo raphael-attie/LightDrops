{
 "cells": [
  {
   "cell_type": "code",
   "execution_count": 1,
   "metadata": {},
   "outputs": [],
   "source": [
    "import astropy.io.fits as fits\n",
    "from pathlib import Path\n",
    "import glob, os\n",
    "import matplotlib.pyplot as plt\n",
    "import numpy as np\n",
    "from astropy.stats import median_absolute_deviation as mad\n",
    "\n",
    "def rescale(image, mref, sref, roi=None):\n",
    "    imageV = image if roi is None else image[roi]\n",
    "    m1 = np.nanmedian(imageV)\n",
    "#     s1 = np.sqrt(bwmv(imageV))\n",
    "    s1 = mad(imageV, ignore_nan=True)\n",
    "    ki = sref/s1\n",
    "    rimage = ki*(image - m1) + mref\n",
    "    return rimage"
   ]
  },
  {
   "cell_type": "code",
   "execution_count": 2,
   "metadata": {},
   "outputs": [],
   "source": [
    "%matplotlib widget"
   ]
  },
  {
   "cell_type": "code",
   "execution_count": 3,
   "metadata": {},
   "outputs": [
    {
     "data": {
      "text/plain": [
       "True"
      ]
     },
     "execution_count": 3,
     "metadata": {},
     "output_type": "execute_result"
    }
   ],
   "source": [
    "datadir = Path(\"C:\\Data/FIRECAPTURE/Jup/221220/pipp_20201224_152544/Jup_174623\")\n",
    "datadir.exists()"
   ]
  },
  {
   "cell_type": "code",
   "execution_count": 4,
   "metadata": {},
   "outputs": [
    {
     "data": {
      "text/plain": [
       "683"
      ]
     },
     "execution_count": 4,
     "metadata": {},
     "output_type": "execute_result"
    }
   ],
   "source": [
    "gfits = sorted(list(datadir.glob('g_Jup*.fit')))\n",
    "len(gfits)"
   ]
  },
  {
   "cell_type": "code",
   "execution_count": 5,
   "metadata": {},
   "outputs": [],
   "source": [
    "sample = fits.getdata(gfits[0])"
   ]
  },
  {
   "cell_type": "code",
   "execution_count": 6,
   "metadata": {},
   "outputs": [
    {
     "data": {
      "application/vnd.jupyter.widget-view+json": {
       "model_id": "d9219466ac844d76ac80be255284bb29",
       "version_major": 2,
       "version_minor": 0
      },
      "text/plain": [
       "Canvas(toolbar=Toolbar(toolitems=[('Home', 'Reset original view', 'home', 'home'), ('Back', 'Back to previous …"
      ]
     },
     "metadata": {},
     "output_type": "display_data"
    },
    {
     "data": {
      "text/plain": [
       "(-0.5, 255.5, -0.5, 255.5)"
      ]
     },
     "execution_count": 6,
     "metadata": {},
     "output_type": "execute_result"
    }
   ],
   "source": [
    "plt.figure(figsize=(5,5))\n",
    "plt.imshow(sample, cmap='gray', origin='lower')\n",
    "plt.axis('off')"
   ]
  },
  {
   "cell_type": "code",
   "execution_count": 7,
   "metadata": {},
   "outputs": [
    {
     "data": {
      "text/plain": [
       "(683, 256, 256)"
      ]
     },
     "execution_count": 7,
     "metadata": {},
     "output_type": "execute_result"
    }
   ],
   "source": [
    "gdata = np.array([fits.getdata(f) for f in gfits])\n",
    "gdata.shape"
   ]
  },
  {
   "cell_type": "code",
   "execution_count": 8,
   "metadata": {},
   "outputs": [],
   "source": [
    "gdata2 = gdata.astype(np.float32).copy()\n",
    "gdata2[gdata2 == 0] = np.nan"
   ]
  },
  {
   "cell_type": "code",
   "execution_count": 9,
   "metadata": {},
   "outputs": [],
   "source": [
    "med_gdata = np.median(gdata, axis=0)\n",
    "mean_gdata = gdata.mean(axis=0)"
   ]
  },
  {
   "cell_type": "code",
   "execution_count": 10,
   "metadata": {},
   "outputs": [],
   "source": [
    "mref = np.nanmedian(gdata2)\n",
    "sref = np.nanstd(gdata2)"
   ]
  },
  {
   "cell_type": "code",
   "execution_count": 11,
   "metadata": {},
   "outputs": [],
   "source": [
    "gdata3 = np.array([rescale(data, mref, sref) for data in gdata2])\n",
    "gdata3[np.isnan(gdata3)] = 0"
   ]
  },
  {
   "cell_type": "code",
   "execution_count": 12,
   "metadata": {},
   "outputs": [],
   "source": [
    "med_gdata2 = np.median(gdata3, axis=0)\n",
    "mean_gdata2 = np.median(gdata3, axis=0)"
   ]
  },
  {
   "cell_type": "code",
   "execution_count": 13,
   "metadata": {},
   "outputs": [
    {
     "data": {
      "application/vnd.jupyter.widget-view+json": {
       "model_id": "545d7d5887214275a4987f7283a36fda",
       "version_major": 2,
       "version_minor": 0
      },
      "text/plain": [
       "Canvas(toolbar=Toolbar(toolitems=[('Home', 'Reset original view', 'home', 'home'), ('Back', 'Back to previous …"
      ]
     },
     "metadata": {},
     "output_type": "display_data"
    }
   ],
   "source": [
    "fig, axs = plt.subplots(nrows=2, ncols=3, figsize= (10,6))\n",
    "axs[0, 0].imshow(gdata[0], origin='lower', cmap='gray')\n",
    "axs[0, 0].set_title('raw')\n",
    "axs[0, 0].axis('off')\n",
    "axs[0, 1].imshow(mean_gdata, origin='lower', cmap='gray')\n",
    "axs[0, 1].set_title('mean')\n",
    "axs[0, 1].axis('off')\n",
    "axs[0, 2].imshow(med_gdata, origin='lower', cmap='gray')\n",
    "axs[0, 2].set_title('median')\n",
    "axs[0, 2].axis('off')\n",
    "\n",
    "axs[1, 0].imshow(gdata3[0], origin='lower', cmap='gray')\n",
    "axs[1, 0].set_title('raw')\n",
    "axs[1, 0].axis('off')\n",
    "axs[1, 1].imshow(mean_gdata2, origin='lower', cmap='gray')\n",
    "axs[1, 1].set_title('mean rescaled')\n",
    "axs[1, 1].axis('off')\n",
    "axs[1, 2].imshow(med_gdata2, origin='lower', cmap='gray')\n",
    "axs[1, 2].set_title('median rescaled')\n",
    "axs[1, 2].axis('off')\n",
    "plt.tight_layout()"
   ]
  },
  {
   "cell_type": "code",
   "execution_count": 14,
   "metadata": {},
   "outputs": [
    {
     "data": {
      "text/plain": [
       "209.808"
      ]
     },
     "execution_count": 14,
     "metadata": {},
     "output_type": "execute_result"
    }
   ],
   "source": [
    "med_gdata2.max()"
   ]
  },
  {
   "cell_type": "code",
   "execution_count": 16,
   "metadata": {},
   "outputs": [],
   "source": [
    "med_gdata_tiff = np.round(med_gdata2/255 * 65535).astype(np.uint16)"
   ]
  },
  {
   "cell_type": "code",
   "execution_count": 17,
   "metadata": {},
   "outputs": [],
   "source": [
    "from imageio import imwrite"
   ]
  },
  {
   "cell_type": "code",
   "execution_count": 18,
   "metadata": {},
   "outputs": [],
   "source": [
    "imwrite('C:\\Data/FIRECAPTURE/Jup/221220/green_saturn.tiff', np.flipud(med_gdata_tiff))"
   ]
  },
  {
   "cell_type": "code",
   "execution_count": null,
   "metadata": {},
   "outputs": [],
   "source": []
  }
 ],
 "metadata": {
  "kernelspec": {
   "display_name": "Python 3",
   "language": "python",
   "name": "python3"
  },
  "language_info": {
   "codemirror_mode": {
    "name": "ipython",
    "version": 3
   },
   "file_extension": ".py",
   "mimetype": "text/x-python",
   "name": "python",
   "nbconvert_exporter": "python",
   "pygments_lexer": "ipython3",
   "version": "3.8.5"
  }
 },
 "nbformat": 4,
 "nbformat_minor": 4
}
