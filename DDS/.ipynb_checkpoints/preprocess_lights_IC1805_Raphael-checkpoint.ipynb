{
 "cells": [
  {
   "cell_type": "code",
   "execution_count": 1,
   "metadata": {},
   "outputs": [],
   "source": [
    "import astro\n",
    "from astropy.io import fits\n",
    "from astropy.stats import biweight_midvariance as bwmv\n",
    "from astropy.stats import median_absolute_deviation as mad\n",
    "import astroalign as aa\n",
    "import cv2\n",
    "from pathlib import Path\n",
    "import numpy as np\n",
    "import matplotlib.pyplot as plt\n",
    "import matplotlib.colors as colors\n",
    "from skimage.registration import phase_cross_correlation\n",
    "# Shift the image\n",
    "from scipy.ndimage import shift\n",
    "import pandas as pd\n",
    "import os\n",
    "import time\n",
    "\n",
    "        \n",
    "def rescale(image, mref, sref, roi=None):\n",
    "    imageV = image if roi is None else image[roi]\n",
    "    m1 = np.median(imageV)\n",
    "#     s1 = np.sqrt(bwmv(imageV))\n",
    "    s1 = mad(imageV)\n",
    "    ki = sref/s1\n",
    "    rimage = ki*(image - m1) + mref\n",
    "    return rimage\n",
    "\n",
    "IMAX = 65535"
   ]
  },
  {
   "cell_type": "code",
   "execution_count": 2,
   "metadata": {},
   "outputs": [
    {
     "name": "stdout",
     "output_type": "stream",
     "text": [
      "C:\\Data\\DDS\\Taka\\Calibration True\n"
     ]
    }
   ],
   "source": [
    "# Masters\n",
    "cal_dir = Path(os.environ['DATA'], 'DDS', 'Taka', 'Calibration')\n",
    "mbiasf = Path(cal_dir, 'master_bias_bin1_Mar_2018.fits')\n",
    "mbiasf_pi = Path(cal_dir, 'PI', 'masterBias_32bits.fit')\n",
    "mdarkf_pi = Path(cal_dir, 'PI', 'masterDark_32bits.fit')\n",
    "dark600f = Path(cal_dir, 'master_dark_m25_600s_bin1_Jan_2019.fits')\n",
    "hflatf = Path(cal_dir, 'master_hflat_m25_bin1_Mar_2019.fits')\n",
    "print(str(cal_dir), cal_dir.exists())\n",
    "# Load master files - Dark and Flat are calibrated (Bias-subtracted)\n",
    "mbias = fits.getdata(mbiasf)\n",
    "mbias_pi = fits.getdata(mbiasf_pi)*IMAX\n",
    "mdark_pi = fits.getdata(mdarkf_pi)*IMAX\n",
    "mdark = fits.getdata(dark600f)\n",
    "mhflat = fits.getdata(hflatf)"
   ]
  },
  {
   "cell_type": "code",
   "execution_count": 3,
   "metadata": {},
   "outputs": [
    {
     "data": {
      "text/plain": [
       "(60.58, 60.58001)"
      ]
     },
     "execution_count": 3,
     "metadata": {},
     "output_type": "execute_result"
    }
   ],
   "source": [
    "mdark.min(), mdark_pi.min()"
   ]
  },
  {
   "cell_type": "code",
   "execution_count": 4,
   "metadata": {},
   "outputs": [
    {
     "name": "stdout",
     "output_type": "stream",
     "text": [
      "C:\\Data\\DDS\\Taka\\Lights\\IC_1805\\H True\n",
      "number of lights:  114\n"
     ]
    }
   ],
   "source": [
    "# Lights\n",
    "lights_dir = Path(os.environ['DATA'], 'DDS', 'Taka', 'Lights', 'IC_1805')\n",
    "Hlights_dir = Path(lights_dir, 'H')\n",
    "print(str(Hlights_dir), Hlights_dir.exists())\n",
    "Hlightsf = sorted(Hlights_dir.rglob('H*.fit'))\n",
    "print('number of lights: ', len(Hlightsf))\n",
    "# Load 1st image to get reference statistics\n",
    "im0 = fits.getdata(Hlightsf[0])\n",
    "# image size\n",
    "sz = im0.shape\n",
    "\n",
    "fov1 = np.s_[1500:1500+512, 2000:2000+512]\n",
    "fov2 = np.s_[0:256, 0:256]\n",
    "fov3 = np.s_[-256:, -256:]"
   ]
  },
  {
   "cell_type": "markdown",
   "metadata": {},
   "source": [
    "### Load selected files upon rejection from above jpeg previews (and optionally Maxselector)"
   ]
  },
  {
   "cell_type": "code",
   "execution_count": 5,
   "metadata": {},
   "outputs": [
    {
     "name": "stdout",
     "output_type": "stream",
     "text": [
      "index of rejected file index:  ['06028', '06029', '06058', '06059', '06060', '06061', '06062', '06063', '06064', '06065', '06066', '06067', '06068', '06069', '06070', '06072', '06073', '06074', '06076', '06077', '06081', '06082', '06083', '06095', '06096', '06097', '06103', '06105', '06106', '06107', '06108']\n",
      "Nb of selected files:  41\n",
      "41\n"
     ]
    }
   ],
   "source": [
    "Hlightsf = sorted(Hlights_dir.glob('H*.fit'))\n",
    "selectf = Path(Hlights_dir, 'selection_raphael.txt')\n",
    "with open(selectf) as file: lines = [line.rstrip('\\n') for line in file]\n",
    "print('index of rejected file index: ', lines)\n",
    "print('Nb of selected files: ', len(Hlightsf) - len(lines))\n",
    "Hf = [f for f in Hlightsf if not any(x in str(f) for x in lines)]\n",
    "print(len(Hf))"
   ]
  },
  {
   "cell_type": "code",
   "execution_count": 6,
   "metadata": {},
   "outputs": [
    {
     "data": {
      "text/plain": [
       "(slice(1300, 2324, None), slice(1750, 2774, None))"
      ]
     },
     "execution_count": 6,
     "metadata": {},
     "output_type": "execute_result"
    }
   ],
   "source": [
    "roi = np.s_[int(sz[0]/2-512):int(sz[0]/2+512), int(sz[1]/2-512):int(sz[1]/2+512)]\n",
    "roi"
   ]
  },
  {
   "cell_type": "code",
   "execution_count": 7,
   "metadata": {},
   "outputs": [
    {
     "name": "stdout",
     "output_type": "stream",
     "text": [
      "0.9547089029373549\n"
     ]
    }
   ],
   "source": [
    "light = fits.getdata(Hf[0])\n",
    "cal1 = light - mbias_pi\n",
    "k = astro.dark_optimize(cal1[roi], mdark_pi[roi])\n",
    "print(k)"
   ]
  },
  {
   "cell_type": "code",
   "execution_count": 14,
   "metadata": {},
   "outputs": [
    {
     "name": "stdout",
     "output_type": "stream",
     "text": [
      "23.184693636277576 23.17354739936226\n"
     ]
    }
   ],
   "source": [
    "cal2a = cal1 - mdark\n",
    "cal2b = cal1 - k*mdark\n",
    "noise_a = astro.evaluate_noise(cal2a[roi])\n",
    "noise_b = astro.evaluate_noise(cal2b[roi])\n",
    "print(noise_a, noise_b)"
   ]
  },
  {
   "cell_type": "code",
   "execution_count": 9,
   "metadata": {},
   "outputs": [
    {
     "data": {
      "text/plain": [
       "(-11042.541, 64910.082)"
      ]
     },
     "execution_count": 9,
     "metadata": {},
     "output_type": "execute_result"
    }
   ],
   "source": [
    "cal2.min(), cal2.max()"
   ]
  },
  {
   "cell_type": "code",
   "execution_count": 17,
   "metadata": {},
   "outputs": [],
   "source": [
    "Hcaldir = Path(Hlights_dir, 'calibrated')\n",
    "Hcaldir.mkdir(parents=False, exist_ok=True)"
   ]
  },
  {
   "cell_type": "code",
   "execution_count": 18,
   "metadata": {},
   "outputs": [],
   "source": [
    "cal2a = np.round(np.clip(cal2a, 0, IMAX))\n",
    "cal2b = np.round(np.clip(cal2b, 0, IMAX))\n",
    "fits.writeto(Path(Hcaldir, f'{Hf[0].stem}_cal2_noK.fits'), cal2a.astype(np.uint16), overwrite=True)\n",
    "fits.writeto(Path(Hcaldir, f'{Hf[0].stem}_cal2.fits'), cal2b.astype(np.uint16), overwrite=True)"
   ]
  },
  {
   "cell_type": "code",
   "execution_count": 22,
   "metadata": {},
   "outputs": [],
   "source": [
    "# Load lights from curated list\n",
    "HLights = np.array([fits.getdata(f) for f in Hf])"
   ]
  },
  {
   "cell_type": "code",
   "execution_count": 23,
   "metadata": {},
   "outputs": [],
   "source": [
    "HCal1 = HLights - mbias\n",
    "del HLights"
   ]
  },
  {
   "cell_type": "code",
   "execution_count": 25,
   "metadata": {},
   "outputs": [],
   "source": [
    "for i, image in enumerate(HCal1):\n",
    "    k = astro.dark_optimize(image[roi], mdark[roi])\n",
    "#     print(f'image {i}: {k:.3f}')\n",
    "    HCal1[i] = image - k*mdark"
   ]
  },
  {
   "cell_type": "code",
   "execution_count": 26,
   "metadata": {},
   "outputs": [],
   "source": [
    "HCal2 = HCal1 / mhflat"
   ]
  },
  {
   "cell_type": "code",
   "execution_count": 27,
   "metadata": {},
   "outputs": [],
   "source": [
    "# Export calibrated files to FITS files\n",
    "for i, f in enumerate(Hf):\n",
    "    fits.writeto(Path(Hcaldir, f'{f.stem}_cal.fits'), HCal1[i].astype(np.float32), overwrite=True)"
   ]
  },
  {
   "cell_type": "code",
   "execution_count": 29,
   "metadata": {},
   "outputs": [],
   "source": [
    "Hregdir = Path(Hcaldir, 'registered')\n",
    "Hregdir.mkdir(parents=False, exist_ok=True)\n",
    "Path(Hregdir, 'jpegs').mkdir(parents=False, exist_ok=True)"
   ]
  },
  {
   "cell_type": "code",
   "execution_count": null,
   "metadata": {},
   "outputs": [],
   "source": [
    "# Reference image\n",
    "ref = HCal2[0]\n",
    "# Rescale the reference image\n",
    "mref = np.median(ref)\n",
    "# sref = np.sqrt(bwmv(ref))\n",
    "sref = mad(ref)\n",
    "\n",
    "vmin = np.percentile(HCal2[0], 0.1)\n",
    "vmax = np.percentile(HCal2[0], 99.8)\n",
    "for i, f in enumerate(Hf[0:]):\n",
    "    \n",
    "    image2 = rescale(HCal2[i], mref, sref)\n",
    "#     image2[image2 < 0] = 0\n",
    "    \n",
    "    p, (pos_img, pos_img_rot) = aa.find_transform(image2, ref)\n",
    "    image2 = cv2.warpPerspective(image2, p.params, (sz[1],sz[0]), flags=cv2.INTER_LANCZOS4);\n",
    "    fits.writeto(Path(Hregdir, f'reg.{f.stem}.fits'), image2.astype(np.float32), overwrite=True)\n",
    "    \n",
    "#     fig, axs = plt.subplots(nrows=1, ncols=3, figsize=(30, 10))\n",
    "#     axs[0].imshow(image2[fov1], vmin=vmin, vmax=vmax, cmap='gray')\n",
    "#     axs[1].imshow(image2[fov2], vmin=vmin, vmax=vmax, cmap='gray')\n",
    "#     axs[2].imshow(image2[fov3], vmin=vmin, vmax=vmax, cmap='gray')\n",
    "#     axs[0].axis('off')\n",
    "#     axs[1].axis('off')\n",
    "#     axs[2].axis('off')\n",
    "#     plt.tight_layout()\n",
    "#     plt.savefig(Path(Hregdir, 'jpegs', f'{f.stem}.reg.aa.jpg'))\n",
    "#     plt.close()"
   ]
  },
  {
   "cell_type": "code",
   "execution_count": null,
   "metadata": {},
   "outputs": [],
   "source": [
    "Hregf = sorted(Hregdir.rglob('reg*.fits'))\n",
    "len(Hregf)"
   ]
  },
  {
   "cell_type": "code",
   "execution_count": null,
   "metadata": {},
   "outputs": [],
   "source": [
    "Hreg = np.array([fits.getdata(f) for f in Hregf])"
   ]
  },
  {
   "cell_type": "code",
   "execution_count": null,
   "metadata": {},
   "outputs": [],
   "source": [
    "Hstack_mean = Hreg.mean(axis=0)"
   ]
  },
  {
   "cell_type": "code",
   "execution_count": null,
   "metadata": {},
   "outputs": [],
   "source": [
    "# Bring back to scaling units of original histogram \n",
    "# Reference image\n",
    "mref = np.median(HCal1[0])\n",
    "# sref = np.sqrt(bwmv(ref))\n",
    "sref = mad(HCal1[0])\n",
    "Hstack_median2 = np.clip(rescale(Hstack_median, mref, sref), 0, IMAX)\n",
    "Hstack_mean2 = np.clip(rescale(Hstack_mean, mref, sref), 0, IMAX)\n",
    "\n",
    "# Hstack_median2[Hstack_median2 <0]=0\n",
    "Hstack_median2n = Hstack_median2 / IMAX\n",
    "# Hstack_avg2[Hstack_avg<0] = 0\n",
    "Hstack_mean2n = Hstack_mean2 /IMAX"
   ]
  },
  {
   "cell_type": "code",
   "execution_count": null,
   "metadata": {},
   "outputs": [],
   "source": [
    "fits.writeto(Path(Hlights_dir, 'stacked', 'Hstack_median_mad.fits'), np.round(Hstack_median2).astype(np.uint16), overwrite=True)\n",
    "fits.writeto(Path(Hlights_dir, 'stacked', 'Hstack_mean_mad.fits'), np.round(Hstack_mean2).astype(np.uint16), overwrite=True)\n",
    "fits.writeto(Path(Hlights_dir, 'stacked', 'Hstack_median_mad_n.fits'), Hstack_median2n, overwrite=True)\n",
    "fits.writeto(Path(Hlights_dir, 'stacked', 'Hstack_mean_mad_n.fits'), Hstack_mean2n, overwrite=True)"
   ]
  },
  {
   "cell_type": "code",
   "execution_count": null,
   "metadata": {},
   "outputs": [],
   "source": [
    "# Winsorized sigma clipping\n",
    "Hregdir = Path(Hlights_dir, 'calibrated', 'registered')\n",
    "Hregf = sorted(Hregdir.rglob('reg*.fits'))\n",
    "print(len(Hregf))\n",
    "Hreg = np.array([fits.getdata(f) for f in Hregf])\n",
    "datacube = np.moveaxis(Hreg.copy(), 0, 2)\n",
    "ny, nx, nframes = datacube.shape\n",
    "ny2 = int(ny / 2)\n",
    "print(nx, ny, nframes)"
   ]
  },
  {
   "cell_type": "code",
   "execution_count": null,
   "metadata": {},
   "outputs": [],
   "source": [
    "# clip low range like in PI\n",
    "datacube = np.clip(datacube, 0, None)"
   ]
  },
  {
   "cell_type": "code",
   "execution_count": null,
   "metadata": {},
   "outputs": [],
   "source": [
    "rej_masks = []\n",
    "start_time = time.time()\n",
    "slow = 3.8\n",
    "shigh = 5.0\n",
    "for i in range(2):\n",
    "    yslice = np.s_[ny2 * i:ny2 * (i + 1), :, :]\n",
    "    print('loading slice data')\n",
    "    rej_mask = astro.wins_sigma_par(datacube[yslice].astype(np.float32), slow, shigh, median_pass=True)\n",
    "    rej_masks.append(rej_mask)\n",
    "    print(f\"--- {time.time() - start_time} seconds ---\")\n",
    "rej_mask = np.array(rej_masks).reshape([ny, nx, nframes])\n",
    "print(f\"--- {time.time() - start_time} seconds ---\")\n",
    "\n",
    "datacube = np.moveaxis(Hreg, 0, 2)\n",
    "masked_datacube = np.ma.masked_array(datacube, mask=rej_mask)\n",
    "master_data = masked_datacube.mean(axis=2).filled()"
   ]
  },
  {
   "cell_type": "code",
   "execution_count": null,
   "metadata": {},
   "outputs": [],
   "source": [
    "# Bring back to scaling units of original histogram \n",
    "# Reference image\n",
    "ref = fits.getdata(Path(Hlights_dir, 'stacked','H_IC_1805_stacked_PI.fit')) * IMAX\n",
    "mref = np.median(ref)\n",
    "# sref = np.sqrt(bwmv(ref))\n",
    "sref = mad(ref)\n",
    "Hstack_wins = np.clip(rescale(master_data, mref, sref), 0, IMAX)\n",
    "Hstack_wins_n = Hstack_wins/IMAX\n",
    "fits.writeto(Path(Hlights_dir, 'stacked', 'Hstack_wins_mad2.fits'), np.round(Hstack_wins).astype(np.uint16), overwrite=True)\n",
    "fits.writeto(Path(Hlights_dir, 'stacked', 'Hstack_wins_mad2_n.fits'), Hstack_wins_n.astype(np.float32), overwrite=True)"
   ]
  },
  {
   "cell_type": "code",
   "execution_count": null,
   "metadata": {},
   "outputs": [],
   "source": [
    "# madH = mad(Hreg, axis=0)\n",
    "# mask = np.abs(Hreg - Hstack_median) < 6*madH\n",
    "# mHreg = np.ma.masked_array(Hreg, mask=~mask)\n",
    "# mHstack2 = mHreg.mean(axis=0).filled(0)\n",
    "\n",
    "# mHstack2 = mHstack2 / mHstack2.max()\n",
    "# mHstack2[mHstack2<0] = 0\n",
    "# fits.writeto(Path(Hlights_dir, 'stacked', 'Hstack_mad_avg_rej_6mad_Raphael.fits'), mHstack2.astype(np.float32), overwrite=True)"
   ]
  },
  {
   "cell_type": "code",
   "execution_count": null,
   "metadata": {},
   "outputs": [],
   "source": []
  }
 ],
 "metadata": {
  "kernelspec": {
   "display_name": "Python 3",
   "language": "python",
   "name": "python3"
  },
  "language_info": {
   "codemirror_mode": {
    "name": "ipython",
    "version": 3
   },
   "file_extension": ".py",
   "mimetype": "text/x-python",
   "name": "python",
   "nbconvert_exporter": "python",
   "pygments_lexer": "ipython3",
   "version": "3.8.5"
  }
 },
 "nbformat": 4,
 "nbformat_minor": 4
}
