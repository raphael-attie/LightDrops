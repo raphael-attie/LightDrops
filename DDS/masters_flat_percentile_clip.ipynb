{
 "cells": [
  {
   "cell_type": "code",
   "execution_count": 1,
   "metadata": {},
   "outputs": [],
   "source": [
    "import astro\n",
    "from pathlib import Path\n",
    "import os\n",
    "from astropy.io import fits\n",
    "import numpy as np\n",
    "import matplotlib.pyplot as plt"
   ]
  },
  {
   "cell_type": "code",
   "execution_count": 7,
   "metadata": {},
   "outputs": [],
   "source": [
    "%matplotlib widget"
   ]
  },
  {
   "cell_type": "code",
   "execution_count": 2,
   "metadata": {},
   "outputs": [],
   "source": [
    "cal_dir = Path(os.environ['DATA'], 'DDS', 'Taka', 'Calibration')\n",
    "mbiasf = Path(cal_dir, 'master_bias_bin1_Mar_2018.fits')\n",
    "flats_dir = Path(cal_dir, 'Flats')\n",
    "flatsf = sorted(list(flats_dir.glob('Hflat_Mar_3_2019/HFlat*.fit')))\n",
    "nframes = len(flatsf)\n",
    "# load masters bias and dark\n",
    "mbias = fits.getdata(mbiasf)\n",
    "# Get reference flat image and calibrate with master bias\n",
    "# (for comparison, choose same as Pixinsight)\n",
    "ref = 6\n",
    "flath = fits.getheader(flatsf[ref])\n",
    "nx, ny = flath['NAXIS1'], flath['NAXIS2']\n",
    "flatd = fits.getdata(flatsf[ref]) - mbias"
   ]
  },
  {
   "cell_type": "code",
   "execution_count": 3,
   "metadata": {},
   "outputs": [
    {
     "name": "stdout",
     "output_type": "stream",
     "text": [
      "Calibrating flat series...\n"
     ]
    }
   ],
   "source": [
    "# Reference median for flux equalization prior to pixel rejection\n",
    "m0 = np.median(flatd)\n",
    "# Loop over the flat files and calibrate with optimized dark\n",
    "flat_cube = np.zeros([nframes, ny, nx], dtype=np.float32)\n",
    "print('Calibrating flat series...')\n",
    "for i, f in enumerate(flatsf):\n",
    "    flat_header = fits.getheader(f)\n",
    "    flat_cube[i] = fits.getdata(f) - mbias\n",
    "    # At this point, images confirmed to be equivalent to Pixinsight processing\n",
    "    # # Flux equalization factor\n",
    "    flux_eq_scale = m0/np.median(flat_cube[i])\n",
    "    flat_cube[i] *= flux_eq_scale"
   ]
  },
  {
   "cell_type": "code",
   "execution_count": 34,
   "metadata": {},
   "outputs": [],
   "source": [
    "def percentile_clip(images, plow=0.01, phigh=0.01):\n",
    "    print(f'plow = {plow} ; phigh = {phigh}')\n",
    "    median = np.median(images, axis=0)\n",
    "    rej_mask1 = median - images > plow * median\n",
    "    rej_mask2 = images - median > phigh * median\n",
    "    rej_mask = rej_mask1 | rej_mask2\n",
    "    return rej_mask, rej_mask1, rej_mask2"
   ]
  },
  {
   "cell_type": "code",
   "execution_count": 83,
   "metadata": {},
   "outputs": [
    {
     "name": "stdout",
     "output_type": "stream",
     "text": [
      "plow = 0.001 ; phigh = 0.001\n",
      "Wall time: 6.37 s\n"
     ]
    }
   ],
   "source": [
    "%%time\n",
    "rej_mask, rej1, rej2 = percentile_clip(flat_cube, plow=0.001, phigh=0.001)\n",
    "flat_cube_ma = np.ma.masked_array(flat_cube, mask=rej_mask)\n",
    "master_flat = flat_cube_ma.mean(axis=0).filled()"
   ]
  },
  {
   "cell_type": "code",
   "execution_count": 84,
   "metadata": {},
   "outputs": [
    {
     "name": "stdout",
     "output_type": "stream",
     "text": [
      "------master Flat (unclipped)-----\n",
      "count_px = 16394976\n",
      "mean = 44202.589\n",
      "median = 44358.436\n",
      "avgDev = 2451.987\n",
      "MAD = 2285.439\n",
      "minimum = 51.796\n",
      "maximum = 64736.152\n"
     ]
    }
   ],
   "source": [
    "print('------master Flat (unclipped)-----')\n",
    "astro.stats(master_flat)"
   ]
  },
  {
   "cell_type": "code",
   "execution_count": 85,
   "metadata": {},
   "outputs": [],
   "source": [
    "rej1s = rej1.sum(axis=0)\n",
    "rej2s = rej2.sum(axis=0)\n",
    "nlows = round(rej1s.sum() / nframes)\n",
    "nhighs = round(rej2s.sum() / nframes)\n",
    "npixels = nx * ny\n",
    "low_rate = nlows / npixels * 100\n",
    "high_rate = nhighs / npixels * 100"
   ]
  },
  {
   "cell_type": "code",
   "execution_count": 88,
   "metadata": {},
   "outputs": [
    {
     "data": {
      "text/plain": [
       "(5, 5, 4.340235020777096, 5.0)"
      ]
     },
     "execution_count": 88,
     "metadata": {},
     "output_type": "execute_result"
    }
   ],
   "source": [
    "rej1s.max(), rej2s.max(), rej2s.mean(), np.median(rej2s)"
   ]
  },
  {
   "cell_type": "code",
   "execution_count": 82,
   "metadata": {},
   "outputs": [
    {
     "data": {
      "text/plain": [
       "(5, 5, 0.201359916598841, 0.0)"
      ]
     },
     "execution_count": 82,
     "metadata": {},
     "output_type": "execute_result"
    }
   ],
   "source": [
    "rej1s.max(), rej2s.max(), rej2s.mean(), np.median(rej2s)"
   ]
  },
  {
   "cell_type": "code",
   "execution_count": 112,
   "metadata": {},
   "outputs": [
    {
     "data": {
      "application/vnd.jupyter.widget-view+json": {
       "model_id": "8c41fecf41774b7680463790acfcf3b4",
       "version_major": 2,
       "version_minor": 0
      },
      "text/plain": [
       "Canvas(toolbar=Toolbar(toolitems=[('Home', 'Reset original view', 'home', 'home'), ('Back', 'Back to previous …"
      ]
     },
     "metadata": {},
     "output_type": "display_data"
    }
   ],
   "source": [
    "vmin = 0\n",
    "# vmax = 1\n",
    "vmax = 5\n",
    "\n",
    "plt.close('all')\n",
    "fig, axs = plt.subplots(nrows=2, ncols=2, figsize=(9, 5))\n",
    "axs[0,0].set_position([0.0, 0.4, 0.5, 0.5])\n",
    "axs[0,1].set_position([0.5, 0.4, 0.5, 0.5])\n",
    "\n",
    "axs[0,0].imshow(rej1s, vmin=vmin, vmax=vmax, cmap='gray')\n",
    "axs[0,0].tick_params(labelbottom=False, labelleft=False)    \n",
    "# axs[0].axis('off')\n",
    "axs[0,0].text(70, 200, f'mean rejected pixels per image: {nlows} ({low_rate:.1f}%)', color='black',\n",
    "        bbox=dict(facecolor='white', edgecolor='black', boxstyle='square', alpha=0.7))\n",
    "axs[0,1].imshow(rej2s, vmin=vmin, vmax=vmax, cmap='gray')\n",
    "\n",
    "axs[0,1].tick_params(labelbottom=False, labelleft=False)    \n",
    "# axs[1].axis('off')\n",
    "axs[0,1].text(70, 200, f'mean rejected pixels per image: {nhighs} ({high_rate:.1f}%)', color='black',\n",
    "        bbox=dict(facecolor='white', edgecolor='black', boxstyle='square', alpha=0.7))\n",
    "\n",
    "axs[1, 0].set_position([0.08, 0.07, 0.2, 0.2])\n",
    "axs[1, 1].set_position([0.53, 0.07, 0.2, 0.2])\n",
    "ax = fig.add_axes([0.3, 0.07, 0.2, 0.2])"
   ]
  },
  {
   "cell_type": "code",
   "execution_count": null,
   "metadata": {},
   "outputs": [],
   "source": []
  }
 ],
 "metadata": {
  "kernelspec": {
   "display_name": "Python 3",
   "language": "python",
   "name": "python3"
  },
  "language_info": {
   "codemirror_mode": {
    "name": "ipython",
    "version": 3
   },
   "file_extension": ".py",
   "mimetype": "text/x-python",
   "name": "python",
   "nbconvert_exporter": "python",
   "pygments_lexer": "ipython3",
   "version": "3.8.5"
  }
 },
 "nbformat": 4,
 "nbformat_minor": 4
}
